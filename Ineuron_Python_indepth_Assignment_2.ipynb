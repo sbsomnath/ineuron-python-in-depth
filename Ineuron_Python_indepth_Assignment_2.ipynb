{
  "nbformat": 4,
  "nbformat_minor": 0,
  "metadata": {
    "colab": {
      "name": " \tIneuron Python indepth Assignment  3",
      "provenance": [],
      "collapsed_sections": []
    },
    "kernelspec": {
      "name": "python3",
      "display_name": "Python 3"
    }
  },
  "cells": [
    {
      "cell_type": "markdown",
      "metadata": {
        "id": "l5AANz48Ttpv",
        "colab_type": "text"
      },
      "source": [
        "# TASK 1"
      ]
    },
    {
      "cell_type": "markdown",
      "metadata": {
        "id": "t94dpKKjToPu",
        "colab_type": "text"
      },
      "source": [
        "1.1\n",
        "Write a Python Program to implement your own myreduce() function which works exactly like\n",
        "Python's built-in function reduce()"
      ]
    },
    {
      "cell_type": "code",
      "metadata": {
        "id": "bKG9uzOZRQFt",
        "colab_type": "code",
        "outputId": "4f0c3786-1313-4322-be6e-893ab94cc6e1",
        "colab": {
          "base_uri": "https://localhost:8080/",
          "height": 90
        }
      },
      "source": [
        "\n",
        "\n",
        "l=[1,2,3]\n",
        "\n",
        "def add(x,y):\n",
        "  return x+y\n",
        "\n",
        "\n",
        "def myreduce(function, iterable, initializer=None):\n",
        "    it = iter(iterable)\n",
        "    if initializer is None:\n",
        "        try:\n",
        "            initializer = next(it)\n",
        "        except StopIteration:\n",
        "            raise TypeError('reduce() of empty sequence with no initial value')\n",
        "    accum_value = initializer\n",
        "    print(\"Acumulator Value: \",accum_value)\n",
        "    for x in it:\n",
        "      print(\"X: \",x)# iteration is stating from the second element, as first element of the iterable is assigned to accum_value\n",
        "      accum_value = function(accum_value, x)\n",
        "    return accum_value\n",
        "\n",
        "\n",
        "\n",
        "print(reduce(add,l))"
      ],
      "execution_count": 0,
      "outputs": [
        {
          "output_type": "stream",
          "text": [
            "Acumulator Value:  1\n",
            "X:  2\n",
            "X:  3\n",
            "6\n"
          ],
          "name": "stdout"
        }
      ]
    },
    {
      "cell_type": "markdown",
      "metadata": {
        "id": "CKCzS1QBTySb",
        "colab_type": "text"
      },
      "source": [
        "1.2\n",
        "Write a Python program to implement your own myfilter() function which works exactly like\n",
        "Python's built-in function filter()"
      ]
    },
    {
      "cell_type": "code",
      "metadata": {
        "id": "unwj5Z0STlx3",
        "colab_type": "code",
        "outputId": "26385e85-bc15-4fca-af1e-4def89983fbe",
        "colab": {
          "base_uri": "https://localhost:8080/",
          "height": 35
        }
      },
      "source": [
        "t='afergreIOerg'\n",
        "def iseven(x):\n",
        "  if (x%2==0):\n",
        "    return True\n",
        "  else:\n",
        "    return False\n",
        "\n",
        "def isvowel(x):\n",
        "  for i in x:\n",
        "    if i in ('aeiouAEIOU'):\n",
        "      return True\n",
        "    return False\n",
        "\n",
        "def myfilter(function,iterable):\n",
        "  l=[]\n",
        "  for i in iterable:\n",
        "    function_output=function(i)\n",
        "    if function_output:\n",
        "      l.append(i) \n",
        "  if(type(iterable))==tuple:\n",
        "    return tuple(l)\n",
        "  elif(type(iterable))==str:\n",
        "    return ''.join(l)\n",
        "  elif (type(iterable))==set:\n",
        "    return set(l)\n",
        "  else:\n",
        "    return l\n",
        "           \n",
        "\n",
        "print(myfilter(isvowel,t))"
      ],
      "execution_count": 30,
      "outputs": [
        {
          "output_type": "stream",
          "text": [
            "aeeIOe\n"
          ],
          "name": "stdout"
        }
      ]
    },
    {
      "cell_type": "markdown",
      "metadata": {
        "id": "EfDPDWwnjDv3",
        "colab_type": "text"
      },
      "source": [
        "2.\n",
        "Implement List comprehensions to produce the following lists.\n",
        "Write List comprehensions to produce the following Lists"
      ]
    },
    {
      "cell_type": "markdown",
      "metadata": {
        "id": "kXnlIX9zjHDF",
        "colab_type": "text"
      },
      "source": [
        "['A', 'C', 'A', 'D', 'G', 'I', ’L’, ‘ D’]"
      ]
    },
    {
      "cell_type": "code",
      "metadata": {
        "id": "L4Tn4a9A9KeW",
        "colab_type": "code",
        "colab": {
          "base_uri": "https://localhost:8080/",
          "height": 35
        },
        "outputId": "cfde49f5-d37d-4640-b809-f335a9fbf5d7"
      },
      "source": [
        "s='ACADGILD'\n",
        "[i for i in s]"
      ],
      "execution_count": 34,
      "outputs": [
        {
          "output_type": "execute_result",
          "data": {
            "text/plain": [
              "['A', 'C', 'A', 'D', 'G', 'I', 'L', 'D']"
            ]
          },
          "metadata": {
            "tags": []
          },
          "execution_count": 34
        }
      ]
    },
    {
      "cell_type": "markdown",
      "metadata": {
        "id": "vLgLqONnlIH7",
        "colab_type": "text"
      },
      "source": [
        "['x', 'xx', 'xxx', 'xxxx', 'y', 'yy', 'yyy', 'yyyy', 'z', 'zz', 'zzz', 'zzzz']"
      ]
    },
    {
      "cell_type": "code",
      "metadata": {
        "id": "hUf9U1TplM0v",
        "colab_type": "code",
        "colab": {
          "base_uri": "https://localhost:8080/",
          "height": 35
        },
        "outputId": "1abfa56b-39cc-46a0-cfd0-b0b2fe95f4c3"
      },
      "source": [
        "[ i*j for i in 'xyz' for j in range (1,5)]"
      ],
      "execution_count": 36,
      "outputs": [
        {
          "output_type": "execute_result",
          "data": {
            "text/plain": [
              "['x', 'xx', 'xxx', 'xxxx', 'y', 'yy', 'yyy', 'yyyy', 'z', 'zz', 'zzz', 'zzzz']"
            ]
          },
          "metadata": {
            "tags": []
          },
          "execution_count": 36
        }
      ]
    },
    {
      "cell_type": "markdown",
      "metadata": {
        "id": "sDgFxIJdlyKY",
        "colab_type": "text"
      },
      "source": [
        "['x', 'y', 'z', 'xx', 'yy', 'zz', 'xx', 'yy', 'zz', 'xxxx', 'yyyy', 'zzzz']"
      ]
    },
    {
      "cell_type": "code",
      "metadata": {
        "id": "qX7jU_6Dl1Hh",
        "colab_type": "code",
        "colab": {
          "base_uri": "https://localhost:8080/",
          "height": 35
        },
        "outputId": "bf6bd493-b034-4ada-efd1-ff2d6b35dce0"
      },
      "source": [
        "[j*i for i in range (1,5) for j in 'xyz']"
      ],
      "execution_count": 39,
      "outputs": [
        {
          "output_type": "execute_result",
          "data": {
            "text/plain": [
              "['x', 'y', 'z', 'xx', 'yy', 'zz', 'xxx', 'yyy', 'zzz', 'xxxx', 'yyyy', 'zzzz']"
            ]
          },
          "metadata": {
            "tags": []
          },
          "execution_count": 39
        }
      ]
    },
    {
      "cell_type": "markdown",
      "metadata": {
        "id": "87PXTgmcmdR4",
        "colab_type": "text"
      },
      "source": [
        "[[2], [3], [4], [3], [4], [5], [4], [5], [6]]"
      ]
    },
    {
      "cell_type": "code",
      "metadata": {
        "id": "DGdVzDf_mjmc",
        "colab_type": "code",
        "colab": {
          "base_uri": "https://localhost:8080/",
          "height": 35
        },
        "outputId": "4dde1a03-d40a-4987-81c5-1617f9990179"
      },
      "source": [
        "[[i+j] for i in range(2,5) for j in range(3)]"
      ],
      "execution_count": 43,
      "outputs": [
        {
          "output_type": "execute_result",
          "data": {
            "text/plain": [
              "[[2], [3], [4], [3], [4], [5], [4], [5], [6]]"
            ]
          },
          "metadata": {
            "tags": []
          },
          "execution_count": 43
        }
      ]
    },
    {
      "cell_type": "markdown",
      "metadata": {
        "id": "pBixaeZhrJhA",
        "colab_type": "text"
      },
      "source": [
        "[[2, 3, 4, 5], [3, 4, 5, 6], [4, 5, 6, 7], [5, 6, 7, 8]]"
      ]
    },
    {
      "cell_type": "code",
      "metadata": {
        "id": "rg88uXsgrRa1",
        "colab_type": "code",
        "colab": {
          "base_uri": "https://localhost:8080/",
          "height": 35
        },
        "outputId": "1519f055-babd-4724-9d87-524da0a0032e"
      },
      "source": [
        "[[i,i+1,i+2,i+3] for i in range(2,6) ]"
      ],
      "execution_count": 48,
      "outputs": [
        {
          "output_type": "execute_result",
          "data": {
            "text/plain": [
              "[[2, 3, 4, 5], [3, 4, 5, 6], [4, 5, 6, 7], [5, 6, 7, 8]]"
            ]
          },
          "metadata": {
            "tags": []
          },
          "execution_count": 48
        }
      ]
    },
    {
      "cell_type": "markdown",
      "metadata": {
        "id": "7KML5hLryRdK",
        "colab_type": "text"
      },
      "source": [
        "[(1, 1), (2, 1), (3, 1), (1, 2), (2, 2), (3, 2), (1, 3), (2, 3), (3, 3)]"
      ]
    },
    {
      "cell_type": "code",
      "metadata": {
        "id": "xV1E1xsAyTeo",
        "colab_type": "code",
        "colab": {
          "base_uri": "https://localhost:8080/",
          "height": 35
        },
        "outputId": "1167a026-6c9b-4535-d92f-ffacb61125ca"
      },
      "source": [
        "[(j,i) for i in range(1,4) for j in range(1,4)]"
      ],
      "execution_count": 50,
      "outputs": [
        {
          "output_type": "execute_result",
          "data": {
            "text/plain": [
              "[(1, 1), (2, 1), (3, 1), (1, 2), (2, 2), (3, 2), (1, 3), (2, 3), (3, 3)]"
            ]
          },
          "metadata": {
            "tags": []
          },
          "execution_count": 50
        }
      ]
    },
    {
      "cell_type": "markdown",
      "metadata": {
        "id": "LWWXdlT_zLKi",
        "colab_type": "text"
      },
      "source": [
        "3.\n",
        "Implement a function longestWord() that takes a list of words and returns the longest one."
      ]
    },
    {
      "cell_type": "code",
      "metadata": {
        "id": "GPtDW58ezMys",
        "colab_type": "code",
        "colab": {
          "base_uri": "https://localhost:8080/",
          "height": 35
        },
        "outputId": "1821f211-cf61-4096-83e0-2b784098f33d"
      },
      "source": [
        "def longestWord(l):\n",
        "  max=1\n",
        "  for i in l:\n",
        "    if (len(i)>max):\n",
        "      max=len(i)\n",
        "  for i in l:\n",
        "    if (len(i)==max):\n",
        "      return i\n",
        "\n",
        "l=['asd','aasdcs','a','vfd']\n",
        "\n",
        "longestWord(l)"
      ],
      "execution_count": 53,
      "outputs": [
        {
          "output_type": "execute_result",
          "data": {
            "text/plain": [
              "'aasdcs'"
            ]
          },
          "metadata": {
            "tags": []
          },
          "execution_count": 53
        }
      ]
    },
    {
      "cell_type": "markdown",
      "metadata": {
        "id": "PEKEW2_W0vtD",
        "colab_type": "text"
      },
      "source": [
        "# TASK 2 :"
      ]
    },
    {
      "cell_type": "markdown",
      "metadata": {
        "id": "yreUpnQt03Ow",
        "colab_type": "text"
      },
      "source": [
        "1.1\n",
        "Write a Python Program(with class concepts) to find the area of the triangle using the below\n",
        "formula.\n",
        "\n",
        "area = (s*(s-a)*(s-b)*(s-c)) ** 0.5\n",
        "\n",
        "Function to take the length of the sides of triangle from user should be defined in the parent\n",
        "class and function to calculate the area should be defined in subclass."
      ]
    },
    {
      "cell_type": "code",
      "metadata": {
        "id": "2v_g065g1EoF",
        "colab_type": "code",
        "colab": {
          "base_uri": "https://localhost:8080/",
          "height": 35
        },
        "outputId": "492cdca4-9ffb-40fb-a727-0afd795d0fdf"
      },
      "source": [
        "class Dimentions:\n",
        "  def __init__(self,a,b,c):\n",
        "    self.a=a\n",
        "    self.b=b\n",
        "    self.c=c \n",
        "\n",
        "  \n",
        "\n",
        "class Area(Dimentions):\n",
        "  def __init__(self,*args):\n",
        "    super(Area,self).__init__(*args)\n",
        "  \n",
        "\n",
        "  def areaCalculation(self):\n",
        "    s=(self.a + self.b +self.c)/2\n",
        "    area=(s*(s-self.a)*(s-self.b)*(s-self.c))*0.5 \n",
        "    return(area)\n",
        "\n",
        "obj=Area(2,3,4)\n",
        "\n",
        "obj.areaCalculation()"
      ],
      "execution_count": 61,
      "outputs": [
        {
          "output_type": "execute_result",
          "data": {
            "text/plain": [
              "8.4375"
            ]
          },
          "metadata": {
            "tags": []
          },
          "execution_count": 61
        }
      ]
    },
    {
      "cell_type": "markdown",
      "metadata": {
        "id": "J0ttj0P9_dlg",
        "colab_type": "text"
      },
      "source": [
        "1.2\n",
        "Write a function filter_long_words() that takes a list of words and an integer n and returns the list\n",
        "of words that are longer than n."
      ]
    },
    {
      "cell_type": "code",
      "metadata": {
        "id": "X7jhWMSQ_fLP",
        "colab_type": "code",
        "colab": {
          "base_uri": "https://localhost:8080/",
          "height": 35
        },
        "outputId": "57c17fee-fe21-4ed3-91ad-8b293250e421"
      },
      "source": [
        "def filter_long_words(l,n):\n",
        "  lst=[]\n",
        "  for i in l:\n",
        "    if(len(i)>n):\n",
        "      lst.append(i)\n",
        "  return(lst)\n",
        "\n",
        "\n",
        "filter_long_words(['aff','lnfvbg','iungerngn','kjn','jnvki'],5)"
      ],
      "execution_count": 64,
      "outputs": [
        {
          "output_type": "execute_result",
          "data": {
            "text/plain": [
              "['lnfvbg', 'iungerngn']"
            ]
          },
          "metadata": {
            "tags": []
          },
          "execution_count": 64
        }
      ]
    },
    {
      "cell_type": "markdown",
      "metadata": {
        "id": "cfwFdujQATMV",
        "colab_type": "text"
      },
      "source": [
        "2.1\n",
        "Write a Python program using function concept that maps list of words into a list of integers\n",
        "representing the lengths of the corresponding words.\n",
        "\n",
        "Hint: If a list [ ab,cde,erty] is passed on to the python function output should come as [2,3,4]\n",
        "\n",
        "Here 2,3 and 4 are the lengths of the words in the list"
      ]
    },
    {
      "cell_type": "code",
      "metadata": {
        "id": "V8VckcVRAZ1d",
        "colab_type": "code",
        "colab": {
          "base_uri": "https://localhost:8080/",
          "height": 35
        },
        "outputId": "7b1acc7a-abe6-4a1f-e5d2-69c4f1d5cb7d"
      },
      "source": [
        "def wordLength(l):\n",
        "  lst=list()\n",
        "  for i in l:\n",
        "    lst.append(len(i))\n",
        "  return(lst)\n",
        "\n",
        "wordLength(['asd','gegeygkj','5eefb'])"
      ],
      "execution_count": 65,
      "outputs": [
        {
          "output_type": "execute_result",
          "data": {
            "text/plain": [
              "[3, 8, 5]"
            ]
          },
          "metadata": {
            "tags": []
          },
          "execution_count": 65
        }
      ]
    },
    {
      "cell_type": "markdown",
      "metadata": {
        "id": "Hwy96T-qEOW6",
        "colab_type": "text"
      },
      "source": [
        "2.2\n",
        "Write a Python function which takes a character (i.e. a string of length 1) and returns True if it is\n",
        "a vowel, False otherwise."
      ]
    },
    {
      "cell_type": "code",
      "metadata": {
        "id": "SSB74FuMEUhT",
        "colab_type": "code",
        "colab": {
          "base_uri": "https://localhost:8080/",
          "height": 35
        },
        "outputId": "a5df8edc-cd66-423e-ef9d-6c9eba764454"
      },
      "source": [
        "def isvowel(x):\n",
        "  if x in ('aeiouAEIOU'):\n",
        "    return True\n",
        "  return False\n",
        "\n",
        "isvowel('a')\n"
      ],
      "execution_count": 70,
      "outputs": [
        {
          "output_type": "execute_result",
          "data": {
            "text/plain": [
              "True"
            ]
          },
          "metadata": {
            "tags": []
          },
          "execution_count": 70
        }
      ]
    },
    {
      "cell_type": "code",
      "metadata": {
        "id": "kuv5RKR_FRPU",
        "colab_type": "code",
        "colab": {
          "base_uri": "https://localhost:8080/",
          "height": 35
        },
        "outputId": "40848b4e-57b3-4530-c383-89775308f2ac"
      },
      "source": [
        "isvowel('b')\n"
      ],
      "execution_count": 71,
      "outputs": [
        {
          "output_type": "execute_result",
          "data": {
            "text/plain": [
              "False"
            ]
          },
          "metadata": {
            "tags": []
          },
          "execution_count": 71
        }
      ]
    }
  ]
}